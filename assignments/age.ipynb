{
 "cells": [
  {
   "cell_type": "code",
   "execution_count": 1,
   "id": "a203d50d-3ac2-4108-90f0-5e58c48ed50f",
   "metadata": {},
   "outputs": [],
   "source": [
    "# [+] SparkSession 설정\n",
    "from pyspark.sql import SparkSession\n",
    "\n",
    "spark = SparkSession.builder.master('local').appName('udf-age').getOrCreate()"
   ]
  },
  {
   "cell_type": "code",
   "execution_count": 15,
   "id": "ed9cc802-2b03-4b71-b075-fc17a473e3a3",
   "metadata": {
    "tags": []
   },
   "outputs": [],
   "source": [
    "age_category = [\n",
    "    ('수복', 27),\n",
    "    ('안현', 39),\n",
    "    ('영희', 43),\n",
    "    ('준석', 26),\n",
    "    ('국영', 66)\n",
    "]"
   ]
  },
  {
   "cell_type": "code",
   "execution_count": 16,
   "id": "17fa3f06-0b98-42b3-ac12-612a71f0ca7d",
   "metadata": {},
   "outputs": [],
   "source": [
    "schema = ['name','age']"
   ]
  },
  {
   "cell_type": "code",
   "execution_count": 17,
   "id": "b8da413b-8034-4457-9c07-dbbff5e51720",
   "metadata": {},
   "outputs": [],
   "source": [
    "df = spark.createDataFrame(age_categorys, schema)"
   ]
  },
  {
   "cell_type": "code",
   "execution_count": 18,
   "id": "333f95b6-5711-41e1-8b17-8547905dbc7a",
   "metadata": {},
   "outputs": [
    {
     "name": "stdout",
     "output_type": "stream",
     "text": [
      "+----+---+\n",
      "|name|age|\n",
      "+----+---+\n",
      "|수복| 27|\n",
      "|안현| 39|\n",
      "|영희| 43|\n",
      "|준석| 26|\n",
      "|국영| 66|\n",
      "+----+---+\n",
      "\n"
     ]
    }
   ],
   "source": [
    "df.show()"
   ]
  },
  {
   "cell_type": "code",
   "execution_count": 19,
   "id": "20ceb7a5-8ec0-4724-9228-687e4f8021c2",
   "metadata": {},
   "outputs": [
    {
     "name": "stdout",
     "output_type": "stream",
     "text": [
      "root\n",
      " |-- name: string (nullable = true)\n",
      " |-- age: long (nullable = true)\n",
      "\n"
     ]
    }
   ],
   "source": [
    "df.printSchema()"
   ]
  },
  {
   "cell_type": "code",
   "execution_count": 20,
   "id": "24ee2d81-927e-4e64-a845-dc13e2e1a75e",
   "metadata": {},
   "outputs": [],
   "source": [
    "df.createOrReplaceTempView('ages')"
   ]
  },
  {
   "cell_type": "code",
   "execution_count": 22,
   "id": "7796f4dd-5a6f-4b1f-92bb-21d0fdc6430a",
   "metadata": {},
   "outputs": [],
   "source": [
    "def age_category(age):\n",
    "    if age <35:\n",
    "        return \"young\"\n",
    "    elif 35<= age <= 59 :\n",
    "        return \"adult\"\n",
    "    elif 60 < age:\n",
    "        return \"senior\"\n"
   ]
  },
  {
   "cell_type": "code",
   "execution_count": 23,
   "id": "75e3211b-8dad-4301-9859-38267a746356",
   "metadata": {},
   "outputs": [
    {
     "data": {
      "text/plain": [
       "<function __main__.age_category(age)>"
      ]
     },
     "execution_count": 23,
     "metadata": {},
     "output_type": "execute_result"
    }
   ],
   "source": [
    "spark.udf.register('age_category', age_category)"
   ]
  },
  {
   "cell_type": "code",
   "execution_count": 24,
   "id": "b2ae0865-7978-4686-a8d1-b23f7cb6a29a",
   "metadata": {},
   "outputs": [
    {
     "name": "stdout",
     "output_type": "stream",
     "text": [
      "+----+------------+\n",
      "|name|age_category|\n",
      "+----+------------+\n",
      "|수복|       young|\n",
      "|안현|       adult|\n",
      "|영희|       adult|\n",
      "|준석|       young|\n",
      "|국영|      senior|\n",
      "+----+------------+\n",
      "\n"
     ]
    }
   ],
   "source": [
    "spark.sql(\n",
    "    \"SELECT name, age_category(age) AS age_category FROM ages\").show()"
   ]
  },
  {
   "cell_type": "code",
   "execution_count": null,
   "id": "d8b62f27-f10b-4da0-b3e1-7c9eb3418812",
   "metadata": {},
   "outputs": [],
   "source": []
  }
 ],
 "metadata": {
  "kernelspec": {
   "display_name": "Python 3 (ipykernel)",
   "language": "python",
   "name": "python3"
  },
  "language_info": {
   "codemirror_mode": {
    "name": "ipython",
    "version": 3
   },
   "file_extension": ".py",
   "mimetype": "text/x-python",
   "name": "python",
   "nbconvert_exporter": "python",
   "pygments_lexer": "ipython3",
   "version": "3.9.13"
  }
 },
 "nbformat": 4,
 "nbformat_minor": 5
}
